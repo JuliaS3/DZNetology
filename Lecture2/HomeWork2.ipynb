{
 "cells": [
  {
   "cell_type": "markdown",
   "metadata": {},
   "source": [
    "Задание 1. Даны 2 строки: long_phrase и short_phrase. Напишите код, который проверяет действительно ли длинная фраза long_phrase длиннее короткой short_phrase. И выводит True или False в зависимости от результата сравнения."
   ]
  },
  {
   "cell_type": "code",
   "execution_count": 24,
   "metadata": {},
   "outputs": [
    {
     "name": "stdout",
     "output_type": "stream",
     "text": [
      "True\n"
     ]
    }
   ],
   "source": [
    "long_phrase = 'Насколько проще было бы писать программы, если бы не заказчики'\n",
    "short_phrase = '640Кб должно хватить для любых задач. Билл Гейтс (по легенде)'\n",
    "print (len (long_phrase) > len (short_phrase))"
   ]
  },
  {
   "cell_type": "markdown",
   "metadata": {},
   "source": [
    "Задание 2. Дано значение объема файла в байтах (в мегабайте 2^20 байт). Напишите перевод этого значения в мегабайты в формате: \"Объем файла равен 213.68Mb\"."
   ]
  },
  {
   "cell_type": "code",
   "execution_count": 50,
   "metadata": {},
   "outputs": [
    {
     "name": "stdout",
     "output_type": "stream",
     "text": [
      "Объем файла равен:  214 Mb\n"
     ]
    }
   ],
   "source": [
    "byte = 224059719\n",
    "megabyte = round (volume_byte / 1048576) \n",
    "print ('Объем файла равен: ', megabyte, 'Mb')"
   ]
  },
  {
   "cell_type": "markdown",
   "metadata": {},
   "source": [
    "Задание 3. Разработать приложение для определения знака зодиака по дате рождения. Пример:\n",
    "\n",
    "Введите месяц: март\n",
    "\n",
    "Введите число: 6\n",
    "\n",
    "Вывод: Рыбы"
   ]
  },
  {
   "cell_type": "code",
   "execution_count": 82,
   "metadata": {},
   "outputs": [
    {
     "name": "stdout",
     "output_type": "stream",
     "text": [
      "введите месяцDecember\n",
      "введите дату25\n",
      "Capricorn\n"
     ]
    }
   ],
   "source": [
    "month = input ('введите месяц')\n",
    "date = int(input('введите дату'))\n",
    "if (month == 'January' and date >= 20) or (month == 'February' and date <= 19):\n",
    "    print ('Aquarius')\n",
    "elif (month == 'February' and date >= 20) or (month == 'March' and date <= 20):\n",
    "    print ('Pisces')\n",
    "elif (month == 'March' and date >= 21) or (month == 'April' and date <= 19):\n",
    "    print ('Aries')\n",
    "elif (month == 'April' and date >= 20) or (month == 'May' and date <= 20):\n",
    "    print ('Taurus')\n",
    "elif (month == 'May' and date >= 21) or (month == 'June' and date <= 20):\n",
    "    print ('Jemini')\n",
    "elif (month == 'June' and date >= 21) or (month == 'July' and date <= 22):\n",
    "    print ('Cancer')\n",
    "elif (month == 'July' and date >= 23) or (month == 'August' and date <= 22):\n",
    "    print ('Leo')\n",
    "elif (month == 'August' and date >= 23) or (month == 'September' and date <= 22):\n",
    "    print ('Virgo')\n",
    "elif (month == 'September' and date >= 23) or (month == 'October' and date <= 23):\n",
    "    print ('Libra')\n",
    "elif (month == 'October' and date >= 24) or (month == 'November' and date <= 22):\n",
    "    print ('Scorpio')\n",
    "elif (month == 'November' and date >= 23) or (month == 'December' and date <= 21):\n",
    "    print ('Sagittarius')\n",
    "elif (month == 'December' and date >= 22) or (month == 'January' and date <= 19):\n",
    "    print ('Capricorn')\n",
    "                                        "
   ]
  },
  {
   "cell_type": "markdown",
   "metadata": {},
   "source": [
    "Задание 4. Нужно разработать приложение для финансового планирования. Приложение учитывает сколько уходит на ипотеку, \"на жизнь\" и сколько нужно отложить на пенсию. Пользователь вводит:\n",
    "\n",
    "заработанную плату в месяц.\n",
    "сколько процентов от ЗП уходит на ипотеку.\n",
    "сколько процентов от ЗП уходит \"на жизнь\".\n",
    "сколько раз приходит премия в год.\n",
    "Остальная часть заработанной платы откладывается на пенсию.\n",
    "\n",
    "Также пользователю приходит премия в размере зарплаты, от которой половина уходит на отпуск, а вторая половина откладывается.\n",
    "\n",
    "Программа должна учитывать сколько премий было в год.\n",
    "\n",
    "Нужно вывести сколько денег тратит пользователь на ипотеку и сколько он накопит за год.\n",
    "\n",
    "Пример:\n",
    "\n",
    "Введите заработанную плату в месяц: 100000\n",
    "\n",
    "Введите сколько процентов уходит на ипотеку: 30\n",
    "\n",
    "Введите сколько процентов уходит на жизнь: 50\n",
    "\n",
    "Введите количество премий за год: 2\n",
    "\n",
    "Вывод: На ипотеку было потрачено: 360000 рублей Было накоплено: 340000 рублей"
   ]
  },
  {
   "cell_type": "code",
   "execution_count": 3,
   "metadata": {},
   "outputs": [
    {
     "name": "stdout",
     "output_type": "stream",
     "text": [
      "введите заработную плату в месяц:25000\n",
      "введите сколько процентов уходит на ипотеку:1200\n",
      "введите сколько процентов уходит на жизнь:50\n",
      "введите количество премий в год:2\n",
      "На ипотеку было потрачено: 3600000.0 Было накоплено: -3425000.0\n"
     ]
    }
   ],
   "source": [
    "salary = int (input(\"введите заработную плату в месяц:\"))\n",
    "mortgage = int (input(\"введите сколько процентов уходит на ипотеку:\"))\n",
    "life = int(input (\"введите сколько процентов уходит на жизнь:\"))\n",
    "bonus = int(input (\"введите количество премий в год:\"))\n",
    "mortage_volume = (salary * 12 * mortgage) / 100\n",
    "life_volume = salary * (12 * life / 100 + bonus / 2)\n",
    "retire = salary * (12 + bonus) - mortage_volume - life_volume\n",
    "print ('На ипотеку было потрачено:', mortage_volume, 'Было накоплено:', retire)\n"
   ]
  }
 ],
 "metadata": {
  "kernelspec": {
   "display_name": "Python 3",
   "language": "python",
   "name": "python3"
  },
  "language_info": {
   "codemirror_mode": {
    "name": "ipython",
    "version": 3
   },
   "file_extension": ".py",
   "mimetype": "text/x-python",
   "name": "python",
   "nbconvert_exporter": "python",
   "pygments_lexer": "ipython3",
   "version": "3.7.6"
  }
 },
 "nbformat": 4,
 "nbformat_minor": 4
}
